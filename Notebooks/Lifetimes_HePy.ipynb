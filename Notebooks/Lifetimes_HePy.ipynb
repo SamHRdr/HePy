{
 "cells": [
  {
   "cell_type": "code",
   "execution_count": 1,
   "id": "5d538474",
   "metadata": {},
   "outputs": [
    {
     "name": "stdout",
     "output_type": "stream",
     "text": [
      "HePy version: 0.2.12\n"
     ]
    }
   ],
   "source": [
    "import numpy as np\n",
    "import matplotlib.pyplot as plt\n",
    "import matplotlib as mpl\n",
    "from matplotlib.ticker import MultipleLocator\n",
    "import pandas as pd\n",
    "from importlib.metadata import version\n",
    "import HePy as he\n",
    "import HePy.constants as const\n",
    "print('HePy version:',version('HePy'))"
   ]
  },
  {
   "cell_type": "markdown",
   "id": "f93795c9",
   "metadata": {},
   "source": [
    "The fluorescence lifetime of a state is the inverse of the sum of the Einstein-A coefficients between it and every dipole allowed lower lying transition. The Einstein-A coefficients can be expressed as<br><br>\n",
    "$\\huge A=\\frac{2e^2\\omega^3}{3\\epsilon_0hc^3}|D|^2$\n",
    "<br><br>\n",
    "Where $\\omega=2\\pi\\nu$ is the angular frequency corresponding to the energy difference between the two states and $D$ is the transition dipoole moment. Since spontaneous emission is on average isotropic,transitions for which $\\Delta m=0,\\pm1$ contribute equally to the decay from each initial $|n\\ell m\\rangle$"
   ]
  },
  {
   "cell_type": "markdown",
   "id": "0ae7435c",
   "metadata": {},
   "source": [
    "I can make one basis set with all the $m_{\\ell}$'s in it, but then need to calculate 3 separate sets of dipole matrix elements and transition frequencies. Then three separate sets of Einstein-A coefficients and only then can I make the end sum."
   ]
  },
  {
   "cell_type": "code",
   "execution_count": 2,
   "id": "9542843b",
   "metadata": {},
   "outputs": [],
   "source": [
    "# Initialise a basis and calculate quantum defects - default is triplet states\n",
    "nmin, nmax = 2, 22 \n",
    "ns  = np.arange(nmin,nmax+1,1)\n",
    "mls = [-1,0,+1] # Include all mls in one matrix\n",
    "basis  = he.Basis(ns, mls)\n",
    "QD_arr = he.QD_Array(basis) # array of quantum defects, index the same as basis\n",
    "# basis"
   ]
  },
  {
   "cell_type": "code",
   "execution_count": 3,
   "id": "0d614e58",
   "metadata": {},
   "outputs": [
    {
     "name": "stderr",
     "output_type": "stream",
     "text": [
      "100%|████████████████████████████████████████████████████████████████████████████████| 714/714 [00:39<00:00, 18.21it/s]\n",
      "100%|████████████████████████████████████████████████████████████████████████████████| 714/714 [00:30<00:00, 23.04it/s]\n",
      "100%|████████████████████████████████████████████████████████████████████████████████| 714/714 [00:32<00:00, 21.67it/s]\n"
     ]
    }
   ],
   "source": [
    "# Numerov parameters\n",
    "r_exp = 1\n",
    "step  = 0.0065\n",
    "rcore = 0.65\n",
    "\n",
    "# Create matrices of dipole transiton moments for each ml\n",
    "Mdip0  = he.dip_matrix(basis,QD_arr, 0,r_exp,step,rcore)\n",
    "Mdipm1 = he.dip_matrix(basis,QD_arr,-1,r_exp,step,rcore)\n",
    "Mdipp1 = he.dip_matrix(basis,QD_arr,+1,r_exp,step,rcore)"
   ]
  },
  {
   "cell_type": "markdown",
   "id": "9fd2ab47",
   "metadata": {},
   "source": [
    "Now create a matrix of field free energies."
   ]
  },
  {
   "cell_type": "code",
   "execution_count": 4,
   "id": "170cfd76",
   "metadata": {},
   "outputs": [
    {
     "name": "stdout",
     "output_type": "stream",
     "text": [
      "(714, 714)\n",
      "(714, 714)\n"
     ]
    }
   ],
   "source": [
    "# Diagonal matrix of field free energies (Hz)\n",
    "H0 = he.H_0(basis,QD_arr)\n",
    "df_H0 = pd.DataFrame(H0)\n",
    "# df_H0\n",
    "\n",
    "# Check matrices are the same size\n",
    "print(np.shape(Mdip0))\n",
    "print(np.shape(H0))"
   ]
  },
  {
   "cell_type": "markdown",
   "id": "d0a491e0",
   "metadata": {},
   "source": [
    "Now generate matrices of Einstein-A coefficients from dipole moments and field free energies."
   ]
  },
  {
   "cell_type": "code",
   "execution_count": 5,
   "id": "495a6e01",
   "metadata": {},
   "outputs": [],
   "source": [
    "# Create Ein-A matrices for each projection\n",
    "MEA0  = he.EinA_mtrx(Mdip0, H0)\n",
    "MEAm1 = he.EinA_mtrx(Mdipm1,H0)\n",
    "MEAp1 = he.EinA_mtrx(Mdipp1,H0)\n",
    "\n",
    "# Add them together to make final matrix\n",
    "Aeintot =  MEA0 + MEAm1 + MEAp1\n",
    "df_tot  = pd.DataFrame(Aeintot)"
   ]
  },
  {
   "cell_type": "markdown",
   "id": "d2b0ab4a",
   "metadata": {},
   "source": [
    "Ok, so now all I need to do is pick a state, such as $10^3S_1$, and find the relevent Einstein-A coefficients. There are already only values for the states where $\\Delta\\ell=\\pm1$, so all I need to do is locate the row that corresponds to the state that I care about and use these numbers."
   ]
  },
  {
   "cell_type": "code",
   "execution_count": 6,
   "id": "b3e775dc",
   "metadata": {},
   "outputs": [
    {
     "name": "stdout",
     "output_type": "stream",
     "text": [
      "116\n",
      "[10, 0, 0]\n",
      "1278120.8284657598\n",
      "7.823986416060424e-07\n",
      "782.3986 ns\n"
     ]
    }
   ],
   "source": [
    "# state of interest\n",
    "nn, ell  = 10, 0\n",
    "idx  = he.lookup_eigval(basis,nn,ell) # locate basis index of that state\n",
    "Asum = df_tot.iloc[idx].sum() # sum that row of the A-coeff. matrix\n",
    "\n",
    "print(idx)\n",
    "print(basis[idx])\n",
    "print(Asum)\n",
    "print(1/Asum)\n",
    "print('%.4f'%((1/Asum)*1e9),'ns')"
   ]
  },
  {
   "cell_type": "markdown",
   "id": "deb70f67",
   "metadata": {},
   "source": [
    "# `Plot`"
   ]
  },
  {
   "cell_type": "markdown",
   "id": "edb6796a",
   "metadata": {},
   "source": [
    "For $2\\leq n\\leq22$ calculate lifetimes of first four angular momentum states. "
   ]
  },
  {
   "cell_type": "code",
   "execution_count": 7,
   "id": "68548e5f",
   "metadata": {},
   "outputs": [],
   "source": [
    "# Initialise arrays\n",
    "shr_calcs_S = []\n",
    "shr_calcs_P = []\n",
    "shr_calcs_D = []\n",
    "shr_calcs_F = []\n",
    "\n",
    "for n in range(len(ns[1:])):\n",
    "    # state of interest\n",
    "    nn, ell  = ns[1:][n], 0 # S\n",
    "    idx  = he.lookup_eigval(basis,nn,ell) # locate basis index of that state\n",
    "    Asum = df_tot.iloc[idx].sum() # sum that row of the A-coeff. matrix\n",
    "    shr_calcs_S.append((1/Asum)*1e6) # in microseconds\n",
    "    \n",
    "for n in range(len(ns[:])):\n",
    "    # state of interest\n",
    "    nn, ell  = ns[:][n], 1 # P\n",
    "    idx  = he.lookup_eigval(basis,nn,ell) \n",
    "    Asum = df_tot.iloc[idx].sum() \n",
    "    shr_calcs_P.append((1/Asum)*1e6) \n",
    "    \n",
    "for n in range(len(ns[1:])):\n",
    "    # state of interest\n",
    "    nn, ell  = ns[1:][n], 2 # D\n",
    "    idx  = he.lookup_eigval(basis,nn,ell) \n",
    "    Asum = df_tot.iloc[idx].sum() \n",
    "    shr_calcs_D.append((1/Asum)*1e6) \n",
    "    \n",
    "for n in range(len(ns[2:])):\n",
    "    # state of interest\n",
    "    nn, ell  = ns[2:][n], 3 # F\n",
    "    idx  = he.lookup_eigval(basis,nn,ell) \n",
    "    Asum = df_tot.iloc[idx].sum() \n",
    "    shr_calcs_F.append((1/Asum)*1e6) "
   ]
  },
  {
   "cell_type": "code",
   "execution_count": 9,
   "id": "67179f5b",
   "metadata": {},
   "outputs": [
    {
     "data": {
      "image/png": "[encoded data removed]",
      "text/plain": [
       "<Figure size 640x480 with 1 Axes>"
      ]
     },
     "metadata": {},
     "output_type": "display_data"
    }
   ],
   "source": [
    "fig, ax = plt.subplots(1, 1,) \n",
    "fsize = 15\n",
    "lnwidth = 0.5\n",
    "tickwidth = 0.5\n",
    "msize = 1\n",
    "mpl.rc('font',family='serif')\n",
    "mpl.rc('font',size=18)\n",
    "\n",
    "nns = np.arange(2,23,1)\n",
    "\n",
    "# Plot\n",
    "plt.plot(nns[1:],shr_calcs_S,marker='o',c='none',mec='tab:red',label='S-states')\n",
    "plt.plot(nns[:],shr_calcs_P,marker='o',c='none',mec='tab:blue',label='P-states')\n",
    "plt.plot(nns[1:],shr_calcs_D,marker='o',c='none',mec='tab:green',label='D-states')\n",
    "plt.plot(nns[2:],shr_calcs_F,marker='o',c='none',mec='tab:purple',label='F-states')\n",
    "\n",
    "#------------------------------------------ Aesthetics ---------------------------------------------------\n",
    "ax.spines['right'].set_linewidth(lnwidth*2)\n",
    "ax.spines['top'].set_linewidth(lnwidth*2)\n",
    "ax.spines['left'].set_linewidth(lnwidth*2)\n",
    "ax.spines['bottom'].set_linewidth(lnwidth*2)\n",
    "ax.tick_params(axis='both', which='major', labelsize=fsize*0.9, width = tickwidth*2, length = 7,\n",
    "                direction='out', bottom=True, top=True, left=True, right=True)\n",
    "ax.tick_params(axis='both', which='minor',width = tickwidth*2, length = 4,\n",
    "                direction='out', bottom=True, top=True, left=True, right=True)\n",
    "ax.get_yaxis().get_major_formatter().set_useOffset(False)\n",
    "\n",
    "## Ticks\n",
    "ax.xaxis.set_major_locator(MultipleLocator(5))\n",
    "ax.xaxis.set_minor_locator(MultipleLocator(1))\n",
    "# ax.yaxis.set_major_locator(MultipleLocator(20))\n",
    "# ax.yaxis.set_minor_locator(MultipleLocator(5))\n",
    "\n",
    "plt.xlabel(r'$n$')\n",
    "plt.ylabel('Fluorescence Lifetime ($\\mu$s)')\n",
    "\n",
    "# Plot legend\n",
    "plt.legend(loc='best',frameon=False,fontsize=fsize)\n",
    "\n",
    "plt.show()"
   ]
  },
  {
   "cell_type": "code",
   "execution_count": null,
   "id": "04c50e82",
   "metadata": {},
   "outputs": [],
   "source": []
  }
 ],
 "metadata": {
  "kernelspec": {
   "display_name": "Python 3 (ipykernel)",
   "language": "python",
   "name": "python3"
  },
  "language_info": {
   "codemirror_mode": {
    "name": "ipython",
    "version": 3
   },
   "file_extension": ".py",
   "mimetype": "text/x-python",
   "name": "python",
   "nbconvert_exporter": "python",
   "pygments_lexer": "ipython3",
   "version": "3.8.16"
  }
 },
 "nbformat": 4,
 "nbformat_minor": 5
}
