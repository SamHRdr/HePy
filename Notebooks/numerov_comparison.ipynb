{
 "cells": [
  {
   "cell_type": "code",
   "execution_count": 1,
   "id": "17467d92",
   "metadata": {},
   "outputs": [],
   "source": [
    "from numerov_OLD import radial_integral as radial_integral_py\n",
    "from numerov import radial_integral as radial_integral_jit"
   ]
  },
  {
   "cell_type": "markdown",
   "id": "c7c04297",
   "metadata": {},
   "source": [
    "numba.jit is significantly faster at compiling the `radial_integral` function than regular python."
   ]
  },
  {
   "cell_type": "code",
   "execution_count": 2,
   "id": "cc52a3e9",
   "metadata": {},
   "outputs": [
    {
     "name": "stdout",
     "output_type": "stream",
     "text": [
      "0.029822255833638782\n",
      "0.02982225583363879\n"
     ]
    }
   ],
   "source": [
    "n1,n2 = 37,2\n",
    "l1,l2 = 1,0\n",
    "\n",
    "print(radial_integral_py(n1, l1, n2, l2))\n",
    "print(radial_integral_jit(n1, l1, n2, l2))"
   ]
  },
  {
   "cell_type": "code",
   "execution_count": 3,
   "id": "3c7a259e",
   "metadata": {},
   "outputs": [
    {
     "name": "stdout",
     "output_type": "stream",
     "text": [
      "218 ms ± 14.8 ms per loop (mean ± std. dev. of 7 runs, 10 loops each)\n"
     ]
    }
   ],
   "source": [
    "%timeit radial_integral_py(n1, l1, n2, l2)"
   ]
  },
  {
   "cell_type": "code",
   "execution_count": 4,
   "id": "bc788fee",
   "metadata": {},
   "outputs": [
    {
     "name": "stdout",
     "output_type": "stream",
     "text": [
      "3.78 ms ± 547 µs per loop (mean ± std. dev. of 7 runs, 100 loops each)\n"
     ]
    }
   ],
   "source": [
    "%timeit radial_integral_jit(n1, l1, n2, l2)"
   ]
  }
 ],
 "metadata": {
  "kernelspec": {
   "display_name": "Python 3 (ipykernel)",
   "language": "python",
   "name": "python3"
  },
  "language_info": {
   "codemirror_mode": {
    "name": "ipython",
    "version": 3
   },
   "file_extension": ".py",
   "mimetype": "text/x-python",
   "name": "python",
   "nbconvert_exporter": "python",
   "pygments_lexer": "ipython3",
   "version": "3.8.16"
  }
 },
 "nbformat": 4,
 "nbformat_minor": 5
}
